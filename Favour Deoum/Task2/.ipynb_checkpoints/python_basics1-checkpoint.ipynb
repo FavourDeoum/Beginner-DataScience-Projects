{
 "cells": [
  {
   "cell_type": "code",
   "execution_count": 8,
   "id": "9a1b3519-d393-4c53-b1ab-6664b557550a",
   "metadata": {},
   "outputs": [
    {
     "name": "stdout",
     "output_type": "stream",
     "text": [
      "Enter comma-separated numbers: 12, 13, 14, 15\n"
     ]
    },
    {
     "name": "stdout",
     "output_type": "stream",
     "text": [
      "List: ['12', ' 13', ' 14', ' 15']\n",
      "Tuple: ('12', ' 13', ' 14', ' 15')\n"
     ]
    }
   ],
   "source": [
    "# 1 Generate List and Tuple\n",
    "\n",
    "numbers = input(\"Enter comma-separated numbers:\")\n",
    "number_list = numbers.split(\",\")\n",
    "number_tuple = tuple(number_list)\n",
    "print(\"List:\", number_list)\n",
    "print(\"Tuple:\", number_tuple)"
   ]
  },
  {
   "cell_type": "code",
   "execution_count": 9,
   "id": "79ca9416-7178-47c0-87c5-c878704a4c54",
   "metadata": {},
   "outputs": [
    {
     "name": "stdout",
     "output_type": "stream",
     "text": [
      "First:  Red\n",
      "Last:  Black\n"
     ]
    }
   ],
   "source": [
    "# 2 First and Last Colors\n",
    "\n",
    "color_list=['Red', 'Green', 'White', 'Black']\n",
    "print(\"First: \", color_list[0])\n",
    "print(\"Last: \",color_list[-1])\n"
   ]
  },
  {
   "cell_type": "code",
   "execution_count": 10,
   "id": "a9ff7e32-29c5-4e52-8278-eca92cb71601",
   "metadata": {},
   "outputs": [
    {
     "name": "stdout",
     "output_type": "stream",
     "text": [
      "60°C is 140.0°F\n",
      "45°F is 7.2°C\n"
     ]
    }
   ],
   "source": [
    "# 3. Temperature Conversion\n",
    "\n",
    "def convert_temperature(value, unit):\n",
    "    if unit.lower() == \"c\":\n",
    "        f = (value * 9/5) + 32\n",
    "        print(f\"{value}°C is {f:.1f}°F\")\n",
    "    elif unit.lower() == \"f\":\n",
    "        c = (value - 32) * 5/9\n",
    "        print(f\"{value}°F is {c:.1f}°C\")\n",
    "\n",
    "convert_temperature(60, \"C\")\n",
    "convert_temperature(45, \"F\")\n"
   ]
  },
  {
   "cell_type": "code",
   "execution_count": 6,
   "id": "89f3f867-69ef-4f12-a014-71dd1bdca9e9",
   "metadata": {},
   "outputs": [
    {
     "name": "stdout",
     "output_type": "stream",
     "text": [
      "112358132134"
     ]
    }
   ],
   "source": [
    "# 5 \n",
    "a, b =0,1\n",
    "while b <50:\n",
    "    print(b, end=\"\")\n",
    "    a,b = b, a+b"
   ]
  },
  {
   "cell_type": "code",
   "execution_count": 23,
   "id": "7a8b7cf2-f72a-48c6-8566-2d31ba3fa6ef",
   "metadata": {},
   "outputs": [
    {
     "name": "stdout",
     "output_type": "stream",
     "text": [
      "Input first number:  1\n",
      "Input second number:  2\n",
      "Input third number:  3\n"
     ]
    },
    {
     "name": "stdout",
     "output_type": "stream",
     "text": [
      "The median is 2\n"
     ]
    }
   ],
   "source": [
    "# 6. Median of Three Values\n",
    "\n",
    "nums = sorted([int(input(\"Input first number: \")), \n",
    "               int(input(\"Input second number: \")), \n",
    "               int(input(\"Input third number: \"))])\n",
    "print(\"The median is\", nums[1])\n"
   ]
  },
  {
   "cell_type": "code",
   "execution_count": 2,
   "id": "a114f4e5-9901-40b9-a5de-d4eaed05c3ae",
   "metadata": {},
   "outputs": [
    {
     "name": "stdout",
     "output_type": "stream",
     "text": [
      "The dog's age in dog's years is 73\n"
     ]
    }
   ],
   "source": [
    "# 7. Dog's Age in Dog Years\n",
    "\n",
    "def calculate_dog_years(human_years):\n",
    "    if human_years <= 2:\n",
    "        dog_years = human_years * 10.5\n",
    "    else:\n",
    "        dog_years = 21 + (human_years - 2) * 4\n",
    "    print(f\"The dog's age in dog's years is {dog_years}\")\n",
    "\n",
    "calculate_dog_years(15)"
   ]
  },
  {
   "cell_type": "code",
   "execution_count": 3,
   "id": "7be211f1-f2bc-41c4-9758-69dfc7de7179",
   "metadata": {},
   "outputs": [
    {
     "name": "stdout",
     "output_type": "stream",
     "text": [
      "True\n"
     ]
    }
   ],
   "source": [
    "# 8. Check All Numbers Are Unique\n",
    "\n",
    "def all_unique(sequence):\n",
    "    return len(sequence) == len(set(sequence))\n",
    "\n",
    "print(all_unique([1, 2, 3, 4]))"
   ]
  },
  {
   "cell_type": "code",
   "execution_count": 5,
   "id": "ee242417-dc18-4aa4-b27d-74b97985076d",
   "metadata": {},
   "outputs": [
    {
     "name": "stdout",
     "output_type": "stream",
     "text": [
      "[2, 4, 6, 8]\n"
     ]
    }
   ],
   "source": [
    "# 10. Print Even Numbers\n",
    "\n",
    "sample_list = [1, 2, 3, 4, 5, 6, 7, 8, 9]\n",
    "even_numbers = [num for num in sample_list if num % 2 == 0]\n",
    "print(even_numbers)"
   ]
  },
  {
   "cell_type": "code",
   "execution_count": 6,
   "id": "d60a4124-44ca-4c14-ada3-0f5cdeb31afd",
   "metadata": {},
   "outputs": [
    {
     "name": "stdout",
     "output_type": "stream",
     "text": [
      "True\n"
     ]
    }
   ],
   "source": [
    "# 11. Prime Check\n",
    "\n",
    "def is_prime(n):\n",
    "    if n < 2:\n",
    "        return False\n",
    "    for i in range(2, int(n**0.5) + 1):\n",
    "        if n % i == 0:\n",
    "            return False\n",
    "    return True\n",
    "\n",
    "print(is_prime(29))"
   ]
  },
  {
   "cell_type": "code",
   "execution_count": 7,
   "id": "dc60a83d-4aa0-40d5-9a0e-0bab0b9325a9",
   "metadata": {},
   "outputs": [
    {
     "name": "stdout",
     "output_type": "stream",
     "text": [
      "['Green', 'White', 'Black']\n"
     ]
    }
   ],
   "source": [
    "# 12. Remove Specified Indices\n",
    "\n",
    "sample_list = ['Red', 'Green', 'White', 'Black', 'Pink', 'Yellow']\n",
    "print([sample_list[i] for i in range(len(sample_list)) if i not in [0, 4, 5]])\n"
   ]
  },
  {
   "cell_type": "code",
   "execution_count": 19,
   "id": "9f66a75b-ffa3-4ad0-a428-4894f65592a2",
   "metadata": {},
   "outputs": [
    {
     "name": "stdout",
     "output_type": "stream",
     "text": [
      "[{'Science': 88, 'Language': 77}, {'Science': 89, 'Language': 78}, {'Science': 62, 'Language': 84}, {'Science': 95, 'Language': 80}]\n"
     ]
    }
   ],
   "source": [
    "# 13. Split Dictionary of Lists\n",
    "\n",
    "original = {'Science': [88, 89, 62, 95], 'Language': [77, 78, 84, 80]}\n",
    "split_dicts = [dict(zip(original.keys(), values)) for values in zip(*original.values())]\n",
    "print(split_dicts)"
   ]
  },
  {
   "cell_type": "code",
   "execution_count": 18,
   "id": "8b71efc9-6eb5-46e1-9e2f-fbd708a65e9d",
   "metadata": {},
   "outputs": [
    {
     "name": "stdout",
     "output_type": "stream",
     "text": [
      "{'a': 1, 'b': 2, 'c': 3, 'd': 4}\n"
     ]
    }
   ],
   "source": [
    "# 14. Merge Two Dictionaries\n",
    "\n",
    "dict1 = {'a': 1, 'b': 2}\n",
    "dict2 = {'c': 3, 'd': 4}\n",
    "merged = {**dict1, **dict2}\n",
    "print(merged)"
   ]
  },
  {
   "cell_type": "code",
   "execution_count": 7,
   "id": "a8eaae11-ec30-486a-9762-7fa7b8db420d",
   "metadata": {},
   "outputs": [
    {
     "name": "stdout",
     "output_type": "stream",
     "text": [
      "13\n"
     ]
    }
   ],
   "source": [
    "# 15\n",
    "print(len(\"Hello, world!\"))"
   ]
  },
  {
   "cell_type": "code",
   "execution_count": 16,
   "id": "410e9b1d-fd88-43ee-ade2-63d030f411dd",
   "metadata": {},
   "outputs": [
    {
     "name": "stdout",
     "output_type": "stream",
     "text": [
      "Enter age:  12\n"
     ]
    },
    {
     "name": "stdout",
     "output_type": "stream",
     "text": [
      "Not eligible to vote\n"
     ]
    }
   ],
   "source": [
    "# 17. Voting Eligibility\n",
    "\n",
    "age = int(input(\"Enter age: \"))\n",
    "print(\"Eligible to vote\" if age >= 18 else \"Not eligible to vote\")\n"
   ]
  },
  {
   "cell_type": "code",
   "execution_count": 12,
   "id": "88938fbf-5725-429e-94cd-1dd0a178012e",
   "metadata": {},
   "outputs": [
    {
     "name": "stdout",
     "output_type": "stream",
     "text": [
      "Input a letter:  s\n"
     ]
    },
    {
     "name": "stdout",
     "output_type": "stream",
     "text": [
      "s is a consonant.\n"
     ]
    }
   ],
   "source": [
    "# 18. Vowel or Consonant\n",
    "\n",
    "letter = input(\"Input a letter: \").lower()\n",
    "if letter in \"aeiou\":\n",
    "    print(f\"{letter} is a vowel.\")\n",
    "else:\n",
    "    print(f\"{letter} is a consonant.\")"
   ]
  },
  {
   "cell_type": "code",
   "execution_count": 26,
   "id": "ac0569d2-8f41-40ab-931c-9393ec156a99",
   "metadata": {},
   "outputs": [],
   "source": [
    "# 19. Create New JSON File\n",
    "\n",
    "import json\n",
    "data = {\"name\": \"John\", \"age\": 30}\n",
    "with open(\"new_file.json\", \"w\") as file:\n",
    "    json.dump(data, file)"
   ]
  },
  {
   "cell_type": "code",
   "execution_count": 8,
   "id": "e033b4cb-c403-4564-816f-68331224940d",
   "metadata": {},
   "outputs": [
    {
     "name": "stdout",
     "output_type": "stream",
     "text": [
      "{'0': 0, '1': 2, '2': 2, '3': 2, '4': 2, '5': 2, '6': 0, '7': 0, '8': 0, '9': 0}\n"
     ]
    }
   ],
   "source": [
    "# 20. Digit Frequency\n",
    "\n",
    "def digit_frequency(n):\n",
    "    freq = {str(i): 0 for i in range(10)}\n",
    "    for digit in str(n):\n",
    "        freq[digit] += 1\n",
    "    return freq\n",
    "\n",
    "print(digit_frequency(1122334455))"
   ]
  }
 ],
 "metadata": {
  "kernelspec": {
   "display_name": "Python 3 (ipykernel)",
   "language": "python",
   "name": "python3"
  },
  "language_info": {
   "codemirror_mode": {
    "name": "ipython",
    "version": 3
   },
   "file_extension": ".py",
   "mimetype": "text/x-python",
   "name": "python",
   "nbconvert_exporter": "python",
   "pygments_lexer": "ipython3",
   "version": "3.12.4"
  }
 },
 "nbformat": 4,
 "nbformat_minor": 5
}
