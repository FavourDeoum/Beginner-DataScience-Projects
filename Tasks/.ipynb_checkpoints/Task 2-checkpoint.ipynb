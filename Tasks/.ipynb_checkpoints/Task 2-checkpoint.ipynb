{
  "nbformat": 4,
  "nbformat_minor": 0,
  "metadata": {
    "colab": {
      "provenance": []
    },
    "kernelspec": {
      "name": "python3",
      "display_name": "Python 3"
    },
    "language_info": {
      "name": "python"
    }
  },
  "cells": [
    {
      "cell_type": "markdown",
      "source": [
        "# **Task2 Instructions**\n",
        "## **A. Task Overview**\n",
        "\n",
        "1. **Python Basics:** Data types (int, float, str, bool),\n",
        "2. **control flow**(if/else), and **loops** (for, while).\n",
        "3. **Functions:** Writing functions, understanding scope, return values, and parameters.\n",
        "4. **Data Structures:** Lists, dictionaries, sets, and tuples—what they are and when to use them.\n",
        "\n",
        "\n"
      ],
      "metadata": {
        "id": "QbSA5DshvYso"
      }
    },
    {
      "cell_type": "markdown",
      "source": [
        "Before attempting the exercises, ensure you take time to:\n",
        "\n",
        "1. Study these topics from your Python notes, tutorials, or reference materials.\n",
        "2. Try a few simple examples to familiarize yourself with the concepts.\n",
        "\n",
        "## **B. Exercises**\n",
        "The exercises in this notebook are designed to test your understanding of the above concepts. Before jumping into coding, read through the problem carefully and plan your solution.Thank you\n",
        "\n",
        "\n"
      ],
      "metadata": {
        "id": "NWm309W81bsi"
      }
    },
    {
      "cell_type": "markdown",
      "source": [
        "## **C. Submission Guidelines**\n",
        "* Clone the repository if you haven’t already.\n",
        "* Navigate to your folder in the repository and create a new folder named Task 2.\n",
        "* Save your completed Jupyter notebook in this folder with the name python_basics1.ipynb.\n",
        "3. Commit and push your changes to your forked repository.\n",
        "4. Open a pull request to merge your changes into the main repository.\n",
        "Note: Ensure your notebook is clean, with well-commented code for clarity.\n",
        "\n"
      ],
      "metadata": {
        "id": "3y0ABZxx1f-J"
      }
    },
    {
      "cell_type": "markdown",
      "source": [
        "## **4. Important Tip**\n",
        "While solving the exercises, try as much as possible NOT to use AI.\n",
        "Focus on applying what you’ve learned and thinking critically about the problems.\n",
        "This will help you understand the concepts better and build your problem-solving skills.\n",
        "## **5. Deadline**\n",
        "Submit your completed notebook on GitHub before the next Sunday. Late submissions may not be reviewed.\n"
      ],
      "metadata": {
        "id": "n6EQj4UC1iJJ"
      }
    },
    {
      "cell_type": "markdown",
      "source": [
        "1. Write a Python program that accepts a sequence of comma-separated numbers from the user and generates a list and a tuple of those numbers."
      ],
      "metadata": {
        "id": "ovQCSYOl11nB"
      }
    },
    {
      "cell_type": "code",
      "source": [],
      "metadata": {
        "id": "J4xT1i-s1nZZ"
      },
      "execution_count": null,
      "outputs": []
    },
    {
      "cell_type": "markdown",
      "source": [
        "2. Write a Python program to display the first and last colors from the following list.\n",
        "\n",
        "  color_list = [\"Red\",\"Green\",\"White\" ,\"Black\"]"
      ],
      "metadata": {
        "id": "zORDwf9t13q5"
      }
    },
    {
      "cell_type": "code",
      "source": [],
      "metadata": {
        "id": "OKz2Goix1_iY"
      },
      "execution_count": null,
      "outputs": []
    },
    {
      "cell_type": "markdown",
      "source": [
        " 3. Write a Python program to convert temperatures to and from Celsius and Fahrenheit.\n",
        "\n",
        " [ Formula : c/5 = f-32/9 [ where c = temperature in celsius and f = temperature in fahrenheit ]\n",
        "\n",
        "  **Expected Output :**\n",
        "\n",
        "  60°C is 140 in Fahrenheit\n",
        "\n",
        "  45°F is 7 in Celsius\n"
      ],
      "metadata": {
        "id": "2Z1bt1fv2AEZ"
      }
    },
    {
      "cell_type": "code",
      "source": [],
      "metadata": {
        "id": "fwDY3BVH2nQw"
      },
      "execution_count": null,
      "outputs": []
    },
    {
      "cell_type": "markdown",
      "source": [
        "4. Write a Python program to guess a number between 1 and 9.\n",
        "\n",
        "   **Note** : User is prompted to enter a guess. If the user guesses wrong then the prompt appears again until the guess is correct, on successful guess, user will get a \"Well guessed!\" message, and the program will exit."
      ],
      "metadata": {
        "id": "NP4O-yyw2rO3"
      }
    },
    {
      "cell_type": "code",
      "source": [],
      "metadata": {
        "id": "kuCGLOzu2xWn"
      },
      "execution_count": null,
      "outputs": []
    },
    {
      "cell_type": "markdown",
      "source": [
        "5. Write a Python program to get the Fibonacci series between 0 and 50.\n",
        "\n",
        "   **Note :** The Fibonacci Sequence is the series of numbers :\n",
        "0, 1, 1, 2, 3, 5, 8, 13, 21, ....\n",
        "\n",
        "   Every next number is found by adding up the two numbers before it.\n",
        "\n",
        "  **Expected Output** : 1 1 2 3 5 8 13 21 34"
      ],
      "metadata": {
        "id": "siBSHHlf21gf"
      }
    },
    {
      "cell_type": "code",
      "source": [],
      "metadata": {
        "id": "23aGn38U3KNP"
      },
      "execution_count": null,
      "outputs": []
    },
    {
      "cell_type": "markdown",
      "source": [
        " 6. Write a Python program to find the median of three values.\n",
        "**Expected Output:**\n",
        "\n",
        "  Input first number: 15                                                  \n",
        "Input second number: 26                                                 \n",
        "Input third number: 29                                                  \n",
        "The median is 26.0"
      ],
      "metadata": {
        "id": "1LwtmUfC3Kk5"
      }
    },
    {
      "cell_type": "code",
      "source": [],
      "metadata": {
        "id": "aAOF2vZf3Zgv"
      },
      "execution_count": null,
      "outputs": []
    },
    {
      "cell_type": "markdown",
      "source": [
        "7. Write a Python program to calculate a dog's age in dog years.\n",
        "\n",
        "   **Note:** For the first two years, a dog year is equal to 10.5 human years. After that, each dog year equals 4 human years.\n",
        "\n",
        "   **Expected Output:**\n",
        "\n",
        "    Input a dog's age in human years: 15                                    \n",
        "    The dog's age in dog's years is 73"
      ],
      "metadata": {
        "id": "g1IS8P7i3Y_n"
      }
    },
    {
      "cell_type": "code",
      "source": [],
      "metadata": {
        "id": "fZjJVeAx3ic-"
      },
      "execution_count": null,
      "outputs": []
    },
    {
      "cell_type": "markdown",
      "source": [
        "8. Write a Python function that takes a sequence of numbers and determines whether all the numbers are different from each other."
      ],
      "metadata": {
        "id": "VvXyjBqA35HG"
      }
    },
    {
      "cell_type": "code",
      "source": [],
      "metadata": {
        "id": "UtCxGX6X37Tm"
      },
      "execution_count": null,
      "outputs": []
    },
    {
      "cell_type": "markdown",
      "source": [
        "9. Write a Python function that accepts a string and counts the number of upper and lower case letters.\n",
        "\n",
        "  Sample String : 'The quick Brow Fox'\n",
        "\n",
        "  **Expected Output** :\n",
        "\n",
        "  No. of Upper case characters : 3\n",
        "\n",
        "  No. of Lower case Characters : 12"
      ],
      "metadata": {
        "id": "7Hq_2ncd4Ioe"
      }
    },
    {
      "cell_type": "code",
      "source": [],
      "metadata": {
        "id": "nmYZ1l4W4RfO"
      },
      "execution_count": null,
      "outputs": []
    },
    {
      "cell_type": "markdown",
      "source": [
        "10.Write a Python program to print the even numbers from a given list.\n",
        "\n",
        "   Sample List : [1, 2, 3, 4, 5, 6, 7, 8, 9]\n",
        "   \n",
        "   Expected Result : [2, 4, 6, 8]"
      ],
      "metadata": {
        "id": "4ASGga_S4dEO"
      }
    },
    {
      "cell_type": "code",
      "source": [],
      "metadata": {
        "id": "TRNjfuo64ibn"
      },
      "execution_count": null,
      "outputs": []
    },
    {
      "cell_type": "markdown",
      "source": [
        "11. Write a Python function that takes a number as a parameter and checks whether the number is prime or not.\n",
        "\n",
        "  **Note** : A prime number (or a prime) is a natural number greater than 1 and that has no positive divisors other than 1 and itself."
      ],
      "metadata": {
        "id": "D6X_VCDu4ohG"
      }
    },
    {
      "cell_type": "code",
      "source": [],
      "metadata": {
        "id": "ApeX8yge4tEX"
      },
      "execution_count": null,
      "outputs": []
    },
    {
      "cell_type": "markdown",
      "source": [
        "12.Write a Python program to print a specified list after removing the 0th, 4th and 5th elements.\n",
        "\n",
        "   Sample List : ['Red', 'Green', 'White', 'Black', 'Pink', 'Yellow']\n",
        "\n",
        "   Expected Output : ['Green', 'White', 'Black']"
      ],
      "metadata": {
        "id": "srh1_HjT5B4N"
      }
    },
    {
      "cell_type": "code",
      "source": [],
      "metadata": {
        "id": "IDSYW6oS5ZgV"
      },
      "execution_count": null,
      "outputs": []
    },
    {
      "cell_type": "markdown",
      "source": [
        " 13. Write a Python program to split a given dictionary of lists into lists of dictionaries.\n",
        "\n",
        " Original dictionary of lists:\n",
        "{'Science': [88, 89, 62, 95], 'Language': [77, 78, 84, 80]}\n",
        "\n",
        " Split said dictionary of lists into list of dictionaries:\n",
        "[{'Science': 88, 'Language': 77}, {'Science': 89, 'Language': 78}, {'Science': 62, 'Language': 84}, {'Science': 95, 'Language': 80}]"
      ],
      "metadata": {
        "id": "h3858fd35mwV"
      }
    },
    {
      "cell_type": "code",
      "source": [],
      "metadata": {
        "id": "tGSgxhIR5umm"
      },
      "execution_count": null,
      "outputs": []
    },
    {
      "cell_type": "markdown",
      "source": [
        "14.Write a Python script to merge two Python dictionaries."
      ],
      "metadata": {
        "id": "RnjT0KMm53Vl"
      }
    },
    {
      "cell_type": "code",
      "source": [],
      "metadata": {
        "id": "Uwkg0e2F54u1"
      },
      "execution_count": null,
      "outputs": []
    },
    {
      "cell_type": "markdown",
      "source": [
        "15. Write a Python program to calculate the length of a string"
      ],
      "metadata": {
        "id": "pHroWIn056nU"
      }
    },
    {
      "cell_type": "code",
      "source": [],
      "metadata": {
        "id": "tevlEwOC6GGc"
      },
      "execution_count": null,
      "outputs": []
    },
    {
      "cell_type": "markdown",
      "source": [
        "16.Write a  Python function that checks whether a passed string is a palindrome or not.\n",
        "\n",
        " **Note:** A palindrome is a word, phrase, or sequence that reads the same backward as forward, e.g., madam or nurses run."
      ],
      "metadata": {
        "id": "zAqpdEHI6GV0"
      }
    },
    {
      "cell_type": "code",
      "source": [],
      "metadata": {
        "id": "u4197oO-7bB5"
      },
      "execution_count": null,
      "outputs": []
    },
    {
      "cell_type": "markdown",
      "source": [
        "17. Write a program that calculates whether a person is eligible for voting based on their age using boolean conditions."
      ],
      "metadata": {
        "id": "sHySvCcm7bXr"
      }
    },
    {
      "cell_type": "code",
      "source": [],
      "metadata": {
        "id": "WMcniwwG7ilT"
      },
      "execution_count": null,
      "outputs": []
    },
    {
      "cell_type": "markdown",
      "source": [
        "18. Write a Python program to check whether an alphabet is a vowel or consonant.\n",
        "Expected Output:\n",
        "\n",
        "Input a letter of the alphabet: k                                       \n",
        "k is a consonant."
      ],
      "metadata": {
        "id": "_6h1FO-s7jEL"
      }
    },
    {
      "cell_type": "code",
      "source": [],
      "metadata": {
        "id": "eZ386pKm951l"
      },
      "execution_count": null,
      "outputs": []
    },
    {
      "cell_type": "markdown",
      "source": [
        "19. Write a Python program to create a new JSON file from an existing JSON file"
      ],
      "metadata": {
        "id": "LaPEbLbb96NZ"
      }
    },
    {
      "cell_type": "code",
      "source": [],
      "metadata": {
        "id": "lkGJh6pc-Sdp"
      },
      "execution_count": null,
      "outputs": []
    },
    {
      "cell_type": "markdown",
      "source": [
        "20. Write a function digit_frequency(n) that takes a positive integer n as input and returns a dictionary where:\n",
        "\n",
        "* The keys are the digits (0-9).\n",
        "* The values are the count of how many times each digit appears in n.\n",
        "\n",
        "**Requirements**\n",
        "\n",
        "* If a digit does not appear in n, its value should be 0.\n",
        "* The function must handle large numbers efficiently.\n",
        "* You are not allowed to use the collections library or any pre-built frequency counter functions."
      ],
      "metadata": {
        "id": "qViPqBJ9-S3o"
      }
    },
    {
      "cell_type": "code",
      "source": [],
      "metadata": {
        "id": "MUBXL805_Ieg"
      },
      "execution_count": null,
      "outputs": []
    },
    {
      "cell_type": "markdown",
      "source": [
        "**Bonus:**\n",
        "\n",
        "Write a function custom_fizzbuzz(start, end) that takes two integers, start and end, as input. The function should return a list where:\n",
        "\n",
        "* Numbers divisible by 3 are replaced with \"Fizz\".\n",
        "* Numbers divisible by 5 are replaced with \"Buzz\".\n",
        "* Numbers divisible by both 3 and 5 are replaced with \"FizzBuzz\".\n",
        "* All other numbers remain unchanged.\n",
        "\n",
        "**Requirements:**\n",
        "\n",
        "* The list should include numbers from start to end (inclusive).\n",
        "* Handle cases where start is greater than end gracefully by returning an empty list.\n",
        "* Use a loop and control flow statements (if/elif/else) to solve the problem."
      ],
      "metadata": {
        "id": "vNJ6xb76_Ixg"
      }
    },
    {
      "cell_type": "code",
      "source": [],
      "metadata": {
        "id": "oR7fNBcW_LhA"
      },
      "execution_count": null,
      "outputs": []
    }
  ]
}